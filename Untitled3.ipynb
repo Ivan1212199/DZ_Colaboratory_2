{
  "nbformat": 4,
  "nbformat_minor": 0,
  "metadata": {
    "colab": {
      "provenance": [],
      "authorship_tag": "ABX9TyMTh6vNAISvLCnfL5Rf6BSf",
      "include_colab_link": true
    },
    "kernelspec": {
      "name": "python3",
      "display_name": "Python 3"
    },
    "language_info": {
      "name": "python"
    }
  },
  "cells": [
    {
      "cell_type": "markdown",
      "metadata": {
        "id": "view-in-github",
        "colab_type": "text"
      },
      "source": [
        "<a href=\"https://colab.research.google.com/github/Ivan1212199/DZ_Colaboratory_2/blob/main/Untitled3.ipynb\" target=\"_parent\"><img src=\"https://colab.research.google.com/assets/colab-badge.svg\" alt=\"Open In Colab\"/></a>"
      ]
    },
    {
      "cell_type": "code",
      "source": [
        "import pandas as pd"
      ],
      "metadata": {
        "id": "zVJ6guBS47Ut"
      },
      "execution_count": 1,
      "outputs": []
    },
    {
      "cell_type": "code",
      "source": [
        "import numpy as nd"
      ],
      "metadata": {
        "id": "LDzCBGzd5E3X"
      },
      "execution_count": 5,
      "outputs": []
    },
    {
      "cell_type": "code",
      "source": [
        "import random"
      ],
      "metadata": {
        "id": "e6qWG-oN5ZlK"
      },
      "execution_count": 6,
      "outputs": []
    },
    {
      "cell_type": "markdown",
      "source": [
        "Задание 44\n",
        "\n",
        "В ячейке ниже представлен код генерирующий DataFrame, которая состоит всего из 1 столбца. Ваша задача перевести его в one hot вид. Сможете ли вы это сделать без get_dummies?\n",
        "\n",
        "import random\n",
        "lst = ['robot'] * 10\n",
        "lst += ['human'] * 10\n",
        "random.shuffle(lst)\n",
        "data = pd.DataFrame({'whoAmI'lst})\n",
        "data.head() "
      ],
      "metadata": {
        "id": "nuZHU8B-6RPy"
      }
    },
    {
      "cell_type": "code",
      "source": [
        "lst = ['robot'] * 10\n",
        "lst += ['human'] * 10\n",
        "random.shuffle(lst)\n",
        "data = pd.DataFrame({'whoAmI': lst})\n",
        "enc.fit(data[['whoAmI']])\n",
        "\n",
        "one_hot = enc.transform(data[['whoAmI']])\n",
        "cols = enc.get_feature_names_out(['whoAmI'])\n",
        "\n",
        "one_hot_df = pd.DataFrame(one_hot.toarray(), columns=cols)\n",
        "print(one_hot_df.head())"
      ],
      "metadata": {
        "colab": {
          "base_uri": "https://localhost:8080/"
        },
        "id": "oenJW0rS6Qql",
        "outputId": "bbb1ca84-a7b4-4aca-da48-0b9ba6a84291"
      },
      "execution_count": 37,
      "outputs": [
        {
          "output_type": "stream",
          "name": "stdout",
          "text": [
            "   whoAmI_human  whoAmI_robot\n",
            "0           1.0           0.0\n",
            "1           0.0           1.0\n",
            "2           0.0           1.0\n",
            "3           0.0           1.0\n",
            "4           1.0           0.0\n"
          ]
        }
      ]
    }
  ]
}